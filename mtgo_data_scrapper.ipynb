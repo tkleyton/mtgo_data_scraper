{
 "cells": [
  {
   "cell_type": "code",
   "execution_count": 24,
   "metadata": {
    "ExecuteTime": {
     "end_time": "2020-04-16T20:41:01.142847Z",
     "start_time": "2020-04-16T20:41:01.140089Z"
    }
   },
   "outputs": [],
   "source": [
    "import re"
   ]
  },
  {
   "cell_type": "code",
   "execution_count": null,
   "metadata": {},
   "outputs": [],
   "source": [
    "player = 'kley'"
   ]
  },
  {
   "cell_type": "code",
   "execution_count": 317,
   "metadata": {
    "ExecuteTime": {
     "end_time": "2020-04-17T03:47:08.929336Z",
     "start_time": "2020-04-17T03:47:08.922797Z"
    },
    "scrolled": true
   },
   "outputs": [
    {
     "data": {
      "text/plain": [
       "'\\x01\\x00$96a0cf35-c322-4b0f-b1f8-b61894e41f42\\x04\\x00$96a0cf35-c322-4b0f-b1f8-b61894e41f42��0#���\\x08\\x00\\x1a@PApocalypse13 rolled a 5.�\\x111#���\\x08\\x00\\x12@Pkley rolled a 5.�(1#���\\x08\\x00\\x1a@PApocalypse13 rolled a 1.�=1#���\\x08\\x00\\x12@Pkley rolled a 1.|U1#���\\x08\\x00\\x1a@PApocalypse13 rolled a 4.�i1#���\\x08\\x00\\x12@Pkley rolled a 3.L\\x7f1#���\\x08\\x00!@P@PApocalypse13 joined the game.�1#���\\x08\\x00\\x19@P@Pkley joined the game.���&���\\x08\\x00%@PApocalypse13 chooses to play first.}\\x16�.���\\x08\\x008@PApocalypse13 begins the game with seven cards in hand.��/���\\x08\\x00\\x1e@Pkley mulligans to six cards.�z\\'3���\\x08\\x00]@Pkley puts a card on the bottom of their library and begins the game with six cards in hand.ӟ\\'3���\\x08\\x00\\x16@PTurn 1: Apocalypse131�F3���\\x08\\x00%@PApocalypse13 skips their draw step.\\x1bg�4���\\x08\\x005@PApocalypse13 plays @[Cavern of Souls@:88490,558:@].7z�6���\\x08\\x00B@PApocalypse13 chooses Sliver for @[Cavern of Souls@:88490,558:@].�\\x08�7���\\x08\\x00\\x0e@PTurn 1: kley�\\x1d�;���\\x08\\x000@Pkley plays @[Sheltered Thicket@:128316,560:@].[6�=���\\x08\\x00\\x16@PTurn 2: Apocalypse13h}f?���\\x08\\x005@PApocalypse13 plays @[Reflecting Pool@:59226,562:@].��vC���\\x08\\x005@PApocalypse13 casts @[Manaweft Sliver@:98718,563:@].\\x1d�>F���\\x08\\x00\\x0e@PTurn 2: kley��wH���\\x08\\x00*@Pkley plays @[Steam Vents@:139854,565:@].�ːK���\\x08\\x00�\\x01@Pkley casts @[Izzet Charm@:126990,566:@] targeting @[Manaweft Sliver@:98718,563:@] (Izzet Charm deals 2 damage to target creature.).�MO���\\x08\\x00\\x16@PTurn 3: Apocalypse138\\x1e7S���\\x08\\x002@PApocalypse13 plays @[Sliver Hive@:107244,570:@].R\\\\-X���\\x08\\x005@PApocalypse13 casts @[Manaweft Sliver@:98718,571:@].]`�\\\\���\\x08\\x005@PApocalypse13 casts @[Virulent Sliver@:53444,572:@].�ې^���\\x08\\x00\\x0e@PTurn 3: kley�$�e���\\x08\\x00,@Pkley casts @[Prismatic Omen@:59182,574:@].ѡ�i���\\x08\\x00:@Pkley plays @[Valakut, the Molten Pinnacle@:69208,575:@].\\x05��m���\\x08\\x00\\x16@PTurn 4: Apocalypse13\\x12+�s���\\x08\\x002@PApocalypse13 plays @[Sliver Hive@:107244,577:@].�>*\\x7f���\\x08\\x003@PApocalypse13 casts @[Homing Sliver@:53260,578:@].Tx�����\\x08\\x00\\x0e@PTurn 4: kley\\x03\\rB����\\x08\\x001@Pkley casts @[Peer Through Depths@:42994,580:@].;1\\r����\\x08\\x00i@Pkley puts @[Growth Spiral@:142712,351:@] into their hand with with @[Peer Through Depths@:42994,580:@].#�\\x17����\\x08\\x00%@Pkley plays @[Forest@:138710,591:@].s������\\x08\\x007@PApocalypse13 discards @[Gemhide Sliver@:51710,576:@].�k�����\\x08\\x005@PApocalypse13 cycles @[Gemhide Sliver@:51710,576:@].��E����\\x08\\x009@PApocalypse13 reveals @[The First Sliver@:145544,298:@].�E�����\\x08\\x00\\x16@PTurn 5: Apocalypse13��\\x14����\\x08\\x007@PApocalypse13 casts @[The First Sliver@:145544,596:@].\\x0c�+����\\x08\\x00f@PApocalypse13 puts triggered ability from @[The First Sliver@:145544,596:@] onto the stack (Cascade).�h�����\\x08\\x00M@PApocalypse13 casts @[Ancestral Vision@:51218,601:@] targeting Apocalypse13.\\x15������\\x08\\x00,@Pkley casts @[Growth Spiral@:142712,603:@].H�Ҳ���\\x08\\x008@Pkley draws a card with @[Growth Spiral@:142712,603:@].�91����\\x08\\x00G@PApocalypse13 draws three cards with @[Ancestral Vision@:51218,601:@].]�=����\\x08\\x00:@PApocalypse13 plays @[Unclaimed Territory@:131092,611:@].9\\ueb3a���\\x08\\x00G@PApocalypse13 chooses Sliver for @[Unclaimed Territory@:131092,611:@].\\x1b5�����\\x08\\x006@PApocalypse13 casts @[Galerider Sliver@:98710,612:@].�ͦ����\\x08\\x00e@PApocalypse13 puts triggered ability from @[Galerider Sliver@:98710,612:@] onto the stack (Cascade).ÿ�����\\x08\\x00M@PApocalypse13 casts @[Ancestral Vision@:51218,622:@] targeting Apocalypse13.>������\\x08\\x00G@PApocalypse13 draws three cards with @[Ancestral Vision@:51218,622:@].,>#����\\x08\\x006@PApocalypse13 casts @[Galerider Sliver@:98710,633:@].6):����\\x08\\x00e@PApocalypse13 puts triggered ability from @[Galerider Sliver@:98710,633:@] onto the stack (Cascade).��\\\\����\\x08\\x00M@PApocalypse13 casts @[Ancestral Vision@:51218,646:@] targeting Apocalypse13.|É����\\x08\\x00G@PApocalypse13 draws three cards with @[Ancestral Vision@:51218,646:@].\\uef23����\\x08\\x00:@Pkley is being attacked by @[Homing Sliver@:53260,578:@].�ܘ����\\x08\\x00f@PApocalypse13 puts triggered ability from @[Homing Sliver@:53260,578:@] onto the stack (Poisonous 1).!,�����\\x08\\x00\\x1c@Pkley has 1 poison counter.�8�����\\x08\\x00=@PApocalypse13 discards @[Unclaimed Territory@:131092,631:@].������\\x08\\x00\\x0e@PTurn 5: kley�\\x06�����\\x08\\x002@Pkley plays @[Snow-Covered Forest@:145760,665:@].�\\x11K����\\x08\\x00�\\x01@Pkley puts triggered ability from @[Valakut, the Molten Pinnacle@:69208,575:@] onto the stack targeting Apocalypse13 (Whenever a Mountain enters the battlefield under your control, if you control at least five other ...).y}�����\\x08\\x00(@Pkley casts @[Scapeshift@:57908,668:@].�G\\x05����\\x08\\x007@Pkley sacrifices @[Snow-Covered Forest@:145760,665:@].�Տ����\\x08\\x009@Pkley sacrifices @[Snow-Covered Mountain@:145756,605:@].�������\\x08\\x00*@Pkley sacrifices @[Forest@:138710,591:@].�\"\\t����\\x08\\x00/@Pkley sacrifices @[Steam Vents@:139854,565:@].8+F����\\x08\\x005@Pkley sacrifices @[Sheltered Thicket@:128316,560:@].\\x0f(+����\\x08\\x00�\\x01@Pkley puts triggered ability from @[Valakut, the Molten Pinnacle@:69208,677:@] onto the stack targeting Apocalypse13 (Whenever a Mountain enters the battlefield under your control, if you control at least five other ...).��:����\\x08\\x00�\\x01@Pkley puts triggered ability from @[Valakut, the Molten Pinnacle@:69208,575:@] onto the stack targeting Apocalypse13 (Whenever a Mountain enters the battlefield under your control, if you control at least five other ...).�iI����\\x08\\x00�\\x01@Pkley puts triggered ability from @[Valakut, the Molten Pinnacle@:69208,677:@] onto the stack targeting Apocalypse13 (Whenever a Mountain enters the battlefield under your control, if you control at least five other ...).h�X����\\x08\\x00�\\x01@Pkley puts triggered ability from @[Valakut, the Molten Pinnacle@:69208,575:@] onto the stack targeting Apocalypse13 (Whenever a Mountain enters the battlefield under your control, if you control at least five other ...).[�g����\\x08\\x00�\\x01@Pkley puts triggered ability from @[Valakut, the Molten Pinnacle@:69208,677:@] onto the stack targeting Apocalypse13 (Whenever a Mountain enters the battlefield under your control, if you control at least five other ...).�uy����\\x08\\x00�\\x01@Pkley puts triggered ability from @[Valakut, the Molten Pinnacle@:69208,575:@] onto the stack targeting Apocalypse13 (Whenever a Mountain enters the battlefield under your control, if you control at least five other ...).�������\\x08\\x00�\\x01@Pkley puts triggered ability from @[Valakut, the Molten Pinnacle@:69208,677:@] onto the stack targeting Apocalypse13 (Whenever a Mountain enters the battlefield under your control, if you control at least five other ...).eP�����\\x08\\x00�\\x01@Pkley puts triggered ability from @[Valakut, the Molten Pinnacle@:69208,575:@] onto the stack targeting Apocalypse13 (Whenever a Mountain enters the battlefield under your control, if you control at least five other ...).�h�����\\x08\\x00�\\x01@Pkley puts triggered ability from @[Valakut, the Molten Pinnacle@:69208,677:@] onto the stack targeting Apocalypse13 (Whenever a Mountain enters the battlefield under your control, if you control at least five other ...).�u�����\\x08\\x00�\\x01@Pkley puts triggered ability from @[Valakut, the Molten Pinnacle@:69208,575:@] onto the stack targeting Apocalypse13 (Whenever a Mountain enters the battlefield under your control, if you control at least five other ...).V������\\x08\\x00*@PApocalypse13 has conceded from the game.���\\x18���\\x08\\x00\\x19@P@Pkley joined the game.��\\x0f\\x19���\\x08\\x00!@P@PApocalypse13 joined the game.J2N\\x1d���\\x08\\x00%@PApocalypse13 chooses to play first.\\x1b\\n, ���\\x08\\x00&@PApocalypse13 mulligans to six cards.u��!���\\x08\\x000@Pkley begins the game with seven cards in hand.\\x17=�\\'���\\x08\\x00e@PApocalypse13 puts a card on the bottom of their library and begins the game with six cards in hand.$g�\\'���\\x08\\x00\\x16@PTurn 1: Apocalypse13���\\'���\\x08\\x00%@PApocalypse13 skips their draw step.i=@)���\\x08\\x002@PApocalypse13 plays @[Sliver Hive@:107244,558:@].A��,���\\x08\\x005@PApocalypse13 casts @[Virulent Sliver@:53444,559:@].���/���\\x08\\x00\\x0e@PTurn 1: kleyMb\\x012���\\x08\\x000@Pkley plays @[Sheltered Thicket@:128316,561:@].�j�4���\\x08\\x00\\x16@PTurn 2: Apocalypse13e�\\x196���\\x08\\x005@PApocalypse13 plays @[Reflecting Pool@:19690,563:@].�m\\x03:���\\x08\\x005@PApocalypse13 casts @[Manaweft Sliver@:98718,564:@].�^z=���\\x08\\x005@PApocalypse13 casts @[Virulent Sliver@:53444,565:@].^��?���\\x08\\x00\\x0e@PTurn 2: kley��\\x06D���\\x08\\x00+@Pkley plays @[Flooded Grove@:60272,567:@].\\x04��E���\\x08\\x00%@Pkley casts @[Farseek@:46524,568:@].\\x1dR�O���\\x08\\x00\\x16@PTurn 3: Apocalypse13�z}X���\\x08\\x007@PApocalypse13 casts @[The First Sliver@:145544,572:@].\\x1c\\x1e�X���\\x08\\x00f@PApocalypse13 puts triggered ability from @[The First Sliver@:145544,572:@] onto the stack (Cascade).k�_\\\\���\\x08\\x008@PApocalypse13 casts @[Collected Company@:112628,576:@].��U_���\\x08\\x00A@PApocalypse13 puts @[Unsettled Mariner@:145608,582:@] into play.1\\x1f�`���\\x08\\x00D@PApocalypse13 puts @[Cloudshredder Sliver@:145524,581:@] into play.���h���\\x08\\x005@PApocalypse13 casts @[Manaweft Sliver@:98718,590:@].�M�h���\\x08\\x00d@PApocalypse13 puts triggered ability from @[Manaweft Sliver@:98718,590:@] onto the stack (Cascade).��@k���\\x08\\x005@PApocalypse13 casts @[Virulent Sliver@:53444,594:@]..{_k���\\x08\\x00d@PApocalypse13 puts triggered ability from @[Virulent Sliver@:53444,594:@] onto the stack (Cascade).�/�n���\\x08\\x00M@PApocalypse13 casts @[Ancestral Vision@:51218,631:@] targeting Apocalypse13.S�\\x0fo���\\x08\\x00G@PApocalypse13 draws three cards with @[Ancestral Vision@:51218,631:@].h�Bs���\\x08\\x00:@PApocalypse13 plays @[Unclaimed Territory@:131092,669:@].\\x0eb�u���\\x08\\x00G@PApocalypse13 chooses Sliver for @[Unclaimed Territory@:131092,669:@].FD�~���\\x08\\x003@PApocalypse13 casts @[Homing Sliver@:53260,670:@].m�\\n\\x7f���\\x08\\x00b@PApocalypse13 puts triggered ability from @[Homing Sliver@:53260,670:@] onto the stack (Cascade).��\\x81���\\x08\\x00;@PApocalypse13 casts @[Cloudshredder Sliver@:145524,678:@].w�����\\x08\\x00j@PApocalypse13 puts triggered ability from @[Cloudshredder Sliver@:145524,678:@] onto the stack (Cascade).\\x03U�����\\x08\\x006@PApocalypse13 casts @[Galerider Sliver@:98710,686:@].1�Є���\\x08\\x00e@PApocalypse13 puts triggered ability from @[Galerider Sliver@:98710,686:@] onto the stack (Cascade).�\\x06Ň���\\x08\\x00M@PApocalypse13 casts @[Ancestral Vision@:51218,690:@] targeting Apocalypse13.n�2����\\x08\\x00G@PApocalypse13 draws three cards with @[Ancestral Vision@:51218,690:@].m8*����\\x08\\x00�\\x01@Pkley is being attacked by @[Galerider Sliver@:98710,686:@], @[Cloudshredder Sliver@:145524,678:@], @[Homing Sliver@:53260,670:@], and @[The First Sliver@:145544,572:@].�%w����\\x08\\x00i@PApocalypse13 puts triggered ability from @[Galerider Sliver@:98710,686:@] onto the stack (Poisonous 1).�o�����\\x08\\x00i@PApocalypse13 puts triggered ability from @[Galerider Sliver@:98710,686:@] onto the stack (Poisonous 1).Ψ�����\\x08\\x00i@PApocalypse13 puts triggered ability from @[Galerider Sliver@:98710,686:@] onto the stack (Poisonous 1)./#˒���\\x08\\x00n@PApocalypse13 puts triggered ability from @[Cloudshredder Sliver@:145524,678:@] onto the stack (Poisonous 1).�V˒���\\x08\\x00n@PApocalypse13 puts triggered ability from @[Cloudshredder Sliver@:145524,678:@] onto the stack (Poisonous 1).�\\x1e͒���\\x08\\x00n@PApocalypse13 puts triggered ability from @[Cloudshredder Sliver@:145524,678:@] onto the stack (Poisonous 1).\\x1bK͒���\\x08\\x00f@PApocalypse13 puts triggered ability from @[Homing Sliver@:53260,670:@] onto the stack (Poisonous 1).q�Ғ���\\x08\\x00f@PApocalypse13 puts triggered ability from @[Homing Sliver@:53260,670:@] onto the stack (Poisonous 1).������\\x08\\x00f@PApocalypse13 puts triggered ability from @[Homing Sliver@:53260,670:@] onto the stack (Poisonous 1).�Q����\\x08\\x00j@PApocalypse13 puts triggered ability from @[The First Sliver@:145544,572:@] onto the stack (Poisonous 1).\\x19�����\\x08\\x00j@PApocalypse13 puts triggered ability from @[The First Sliver@:145544,572:@] onto the stack (Poisonous 1).�\\x01����\\x08\\x00j@PApocalypse13 puts triggered ability from @[The First Sliver@:145544,572:@] onto the stack (Poisonous 1).��X����\\x08\\x00\\x1c@Pkley has 1 poison counter.��\\x18����\\x08\\x00\\x1d@Pkley has 2 poison counters.��ϕ���\\x08\\x00\\x1d@Pkley has 3 poison counters.r\\n�����\\x08\\x00\\x1d@Pkley has 4 poison counters.�\\t(����\\x08\\x00\\x1d@Pkley has 5 poison counters.}\\x1f����\\x08\\x00\\x1d@Pkley has 6 poison counters.��p����\\x08\\x00\\x1d@Pkley has 7 poison counters.^����\\x08\\x00\\x1d@Pkley has 8 poison counters.M3�����\\x08\\x00\\x1d@Pkley has 9 poison counters.��ؙ���\\x08\\x00\\x1e@Pkley has 10 poison counters.�/ٙ���\\x08\\x00?@Pkley loses the game due to having 10 or more poison counters.�E�����\\x08\\x00\\x19@P@Pkley joined the game.�[�����\\x08\\x00!@P@PApocalypse13 joined the game.\\x12[�����\\x08\\x00\\x1d@Pkley chooses to play first.�\\x03\\x11����\\x08\\x000@Pkley begins the game with seven cards in hand.\\x1daz����\\x08\\x008@PApocalypse13 begins the game with seven cards in hand.\\x1ewz����\\x08\\x00\\x0e@PTurn 1: kley�֔����\\x08\\x00\\x1d@Pkley skips their draw step.Q4\\x1e����\\x08\\x000@Pkley plays @[Sheltered Thicket@:128316,543:@].7p\\x16����\\x08\\x00\\x16@PTurn 1: Apocalypse13\\x14������\\x08\\x002@PApocalypse13 plays @[Sliver Hive@:107244,545:@].� A����\\x08\\x006@PApocalypse13 casts @[Galerider Sliver@:98710,546:@].�h\\u05fc���\\x08\\x00\\x0e@PTurn 2: kley�-\\'����\\x08\\x00-@Pkley plays @[Polluted Delta@:108392,548:@].��B����\\x08\\x00�\\x01@Pkley activates an ability of @[Polluted Delta@:108392,548:@] ( Search your library for an Island or Swamp card, put it onto the battlefield, then shuffle your l...).�������\\x08\\x00%@Pkley casts @[Farseek@:46524,552:@].��I����\\x08\\x00\\x16@PTurn 2: Apocalypse13�HR����\\x08\\x00:@PApocalypse13 plays @[Unclaimed Territory@:131092,556:@].�·����\\x08\\x00G@PApocalypse13 chooses Sliver for @[Unclaimed Territory@:131092,556:@].��A����\\x08\\x00=@Pkley is being attacked by @[Galerider Sliver@:98710,546:@].�w�����\\x08\\x008@PApocalypse13 casts @[Unsettled Mariner@:145608,558:@].%VK����\\x08\\x00\\x0e@PTurn 3: kley[^>����\\x08\\x00+@Pkley plays @[Cinder Glade@:117382,560:@].2�\\x16����\\x08\\x00\\x16@PTurn 3: Apocalypse13R(\\x14����\\x08\\x004@PApocalypse13 casts @[Gemhide Sliver@:51710,562:@].\\rDP����\\x08\\x00;@PApocalypse13 casts @[Cloudshredder Sliver@:145524,563:@].B\\x08�\\x00���\\x08\\x00e@Pkley is being attacked by @[Cloudshredder Sliver@:145524,563:@] and @[Gemhide Sliver@:51710,562:@].,�u\\x06���\\x08\\x00,@Pkley casts @[Growth Spiral@:142712,565:@].�[\\x07���\\x08\\x008@Pkley draws a card with @[Growth Spiral@:142712,565:@].[��\\t���\\x08\\x001@Pkley casts @[Peer Through Depths@:42994,569:@].K�\\r���\\x08\\x00i@Pkley puts @[Lightning Bolt@:74480,352:@] into their hand with with @[Peer Through Depths@:42994,569:@].�dV\\x11���\\x08\\x00\\x0e@PTurn 4: kley�Z�\\x12���\\x08\\x00+@Pkley plays @[Cinder Glade@:117382,581:@].g*<\\x16���\\x08\\x00\\x16@PTurn 4: Apocalypse13�[�\\x1f���\\x08\\x007@PApocalypse13 casts @[The First Sliver@:145544,583:@].P��\\x1f���\\x08\\x00f@PApocalypse13 puts triggered ability from @[The First Sliver@:145544,583:@] onto the stack (Cascade).qox#���\\x08\\x003@PApocalypse13 casts @[Homing Sliver@:53260,587:@].9#�+���\\x08\\x00Y@Pkley casts @[Lightning Bolt@:74480,588:@] targeting @[Unsettled Mariner@:145608,558:@].�Ց+���\\x08\\x00�\\x01@PApocalypse13 puts triggered ability from @[Unsettled Mariner@:145608,558:@] onto the stack (Whenever you or a permanent you control becomes the target of a spell or ability an opponent contr...).�cg7���\\x08\\x00V@Pkley casts @[Aether Gust@:145966,593:@] targeting @[The First Sliver@:145544,583:@].���;���\\x08\\x00Q@PApocalypse13 puts @[The First Sliver@:145544,583:@] on bottom of their library.:�{@���\\x08\\x00:@Pkley is being attacked by @[Homing Sliver@:53260,587:@].<��F���\\x08\\x001@Pkley casts @[Peer Through Depths@:42994,597:@].sr.K���\\x08\\x00i@Pkley puts @[Growth Spiral@:142712,343:@] into their hand with with @[Peer Through Depths@:42994,597:@].s:�M���\\x08\\x00\\x0e@PTurn 5: kley]{�R���\\x08\\x002@Pkley casts @[Hour of Devastation@:129356,609:@].\\x1b\\x15@Y���\\x08\\x00\\x16@PTurn 5: Apocalypse13���^���\\x08\\x008@PApocalypse13 casts @[Unsettled Mariner@:145608,616:@].K*{`���\\x08\\x00\\x0e@PTurn 6: kley�3�f���\\x08\\x00\\x16@PTurn 6: Apocalypse13��<i���\\x08\\x005@PApocalypse13 plays @[Cavern of Souls@:88490,619:@].��]j���\\x08\\x00B@PApocalypse13 chooses Sliver for @[Cavern of Souls@:88490,619:@].�ʏm���\\x08\\x00?@Pkley is being attacked by @[Unsettled Mariner@:145608,616:@]._��r���\\x08\\x00,@Pkley casts @[Growth Spiral@:142712,621:@].\\x11]\\x01s���\\x08\\x008@Pkley draws a card with @[Growth Spiral@:142712,621:@].\\x04�vv���\\x08\\x00\\x0e@PTurn 7: kley�*x���\\x08\\x000@Pkley plays @[Sheltered Thicket@:128316,625:@].��I|���\\x08\\x00\\x16@PTurn 7: Apocalypse13\\x02��~���\\x08\\x005@PApocalypse13 plays @[Reflecting Pool@:19690,627:@].�R����\\x08\\x00?@Pkley is being attacked by @[Unsettled Mariner@:145608,616:@].�B։���\\x08\\x00C@Pkley casts @[Lightning Bolt@:74480,629:@] targeting Apocalypse13.9�����\\x08\\x00�\\x01@PApocalypse13 puts triggered ability from @[Unsettled Mariner@:145608,616:@] onto the stack (Whenever you or a permanent you control becomes the target of a spell or ability an opponent contr...).v�����\\x08\\x00\\x0e@PTurn 8: kley�\\x1f����\\x08\\x000@Pkley casts @[Anger of the Gods@:101156,634:@].��ɜ���\\x08\\x00(@Pkley casts @[Scapeshift@:57908,637:@].^������\\x08\\x007@Pkley sacrifices @[Snow-Covered Forest@:145760,567:@].�\\x13I����\\x08\\x007@Pkley sacrifices @[Snow-Covered Island@:145748,551:@].�fʢ���\\x08\\x007@Pkley sacrifices @[Snow-Covered Island@:145748,553:@].\\x11�[����\\x08\\x000@Pkley sacrifices @[Cinder Glade@:117382,560:@].Z^�����\\x08\\x000@Pkley sacrifices @[Cinder Glade@:117382,581:@].��P����\\x08\\x005@Pkley sacrifices @[Sheltered Thicket@:128316,543:@].�������\\x08\\x005@Pkley sacrifices @[Sheltered Thicket@:128316,625:@].^�z����\\x08\\x00�\\x01@Pkley puts triggered ability from @[Valakut, the Molten Pinnacle@:69208,651:@] onto the stack targeting Apocalypse13 (Whenever a Mountain enters the battlefield under your control, if you control at least five other ...).)\\u0605����\\x08\\x00�\\x01@Pkley puts triggered ability from @[Valakut, the Molten Pinnacle@:69208,651:@] onto the stack targeting Apocalypse13 (Whenever a Mountain enters the battlefield under your control, if you control at least five other ...).�]�����\\x08\\x00�\\x01@Pkley puts triggered ability from @[Valakut, the Molten Pinnacle@:69208,651:@] onto the stack targeting Apocalypse13 (Whenever a Mountain enters the battlefield under your control, if you control at least five other ...).\\x11������\\x08\\x00�\\x01@Pkley puts triggered ability from @[Valakut, the Molten Pinnacle@:69208,651:@] onto the stack targeting Apocalypse13 (Whenever a Mountain enters the battlefield under your control, if you control at least five other ...).\\r����\\x08\\x00�\\x01@Pkley puts triggered ability from @[Valakut, the Molten Pinnacle@:69208,651:@] onto the stack targeting Apocalypse13 (Whenever a Mountain enters the battlefield under your control, if you control at least five other ...).\\\\R�����\\x08\\x00�\\x01@Pkley puts triggered ability from @[Valakut, the Molten Pinnacle@:69208,651:@] onto the stack targeting Apocalypse13 (Whenever a Mountain enters the battlefield under your control, if you control at least five other ...).\\x12�x����\\x08\\x00*@PApocalypse13 has conceded from the game.7�����\\x08\\x00!@PApocalypse13 has left the game.'"
      ]
     },
     "execution_count": 317,
     "metadata": {},
     "output_type": "execute_result"
    }
   ],
   "source": [
    "with open('match1.dat', 'rb') as f:\n",
    "    file1 = f.read().decode(encoding='utf-8', errors='replace')\n",
    "    # Unknown characters are replaced by \\ufffd (those question marks)\n",
    "file1"
   ]
  },
  {
   "cell_type": "code",
   "execution_count": 318,
   "metadata": {
    "ExecuteTime": {
     "end_time": "2020-04-17T03:47:11.817396Z",
     "start_time": "2020-04-17T03:47:11.812121Z"
    }
   },
   "outputs": [
    {
     "name": "stdout",
     "output_type": "stream",
     "text": [
      "Cards played: {'Collected Company', 'Izzet Charm', 'Steam Vents', 'Lightning Bolt', 'Polluted Delta', 'Growth Spiral', 'Galerider Sliver', 'Flooded Grove', 'Unclaimed Territory', 'Snow-Covered Island', 'Manaweft Sliver', 'Virulent Sliver', 'Valakut, the Molten Pinnacle', 'Cavern of Souls', 'Scapeshift', 'The First Sliver', 'Homing Sliver', 'Cloudshredder Sliver', 'Forest', 'Aether Gust', 'Sliver Hive', 'Gemhide Sliver', 'Hour of Devastation', 'Reflecting Pool', 'Unsettled Mariner', 'Farseek', 'Prismatic Omen', 'Ancestral Vision', 'Sheltered Thicket', 'Peer Through Depths', 'Anger of the Gods', 'Cinder Glade', 'Snow-Covered Mountain', 'Snow-Covered Forest'}\n"
     ]
    }
   ],
   "source": [
    "# The card names are formatted as @[Card Name@:numbers,numbers:@]\n",
    "card_pattern = re.compile('@\\[([a-zA-Z\\s,-]+)@:[0-9,]+:@\\]')\n",
    "cards_played = set(re.compile('@\\[([a-zA-Z\\s,-]+)@:[0-9,]+:@\\]').findall(file1))\n",
    "print(f'Cards played: {cards_played}')"
   ]
  },
  {
   "cell_type": "code",
   "execution_count": 319,
   "metadata": {
    "ExecuteTime": {
     "end_time": "2020-04-17T03:47:15.294088Z",
     "start_time": "2020-04-17T03:47:15.289781Z"
    }
   },
   "outputs": [],
   "source": [
    "# Replace the weird card formatting with a simple Card Name\n",
    "file1 = re.sub(card_pattern, r\"\\g<1>\", file1)"
   ]
  },
  {
   "cell_type": "code",
   "execution_count": 314,
   "metadata": {
    "ExecuteTime": {
     "end_time": "2020-04-17T03:45:43.606482Z",
     "start_time": "2020-04-17T03:45:43.576360Z"
    }
   },
   "outputs": [
    {
     "data": {
      "text/plain": [
       "['96a0cf35-c322-4b0f-b1f8-b61894e41f42',\n",
       " '96a0cf35-c322-4b0f-b1f8-b61894e41f42',\n",
       " 'Apocalypse13 rolled a 5',\n",
       " 'kley rolled a 5',\n",
       " 'Apocalypse13 rolled a 1',\n",
       " 'kley rolled a 1',\n",
       " 'Apocalypse13 rolled a 4',\n",
       " 'kley rolled a 3',\n",
       " 'Apocalypse13 joined the game',\n",
       " 'kley joined the game',\n",
       " 'Apocalypse13 chooses to play first',\n",
       " 'Apocalypse13 begins the game with seven cards in hand',\n",
       " 'kley mulligans to six cards',\n",
       " 'kley puts a card on the bottom of their library and begins the game with six cards in hand',\n",
       " 'Turn 1: Apocalypse131',\n",
       " 'Apocalypse13 skips their draw step',\n",
       " 'Apocalypse13 plays Cavern of Souls',\n",
       " 'Apocalypse13 chooses Sliver for Cavern of Souls',\n",
       " 'Turn 1: kley',\n",
       " 'kley plays Sheltered Thicket',\n",
       " 'Turn 2: Apocalypse13h',\n",
       " 'Apocalypse13 plays Reflecting Pool',\n",
       " 'Apocalypse13 casts Manaweft Sliver',\n",
       " 'Turn 2: kley',\n",
       " 'kley plays Steam Vents',\n",
       " 'kley casts Izzet Charm targeting Manaweft Sliver (Izzet Charm deals 2 damage to target creature',\n",
       " 'Turn 3: Apocalypse138',\n",
       " 'Apocalypse13 plays Sliver Hive',\n",
       " 'Apocalypse13 casts Manaweft Sliver',\n",
       " 'Apocalypse13 casts Virulent Sliver',\n",
       " 'Turn 3: kley',\n",
       " 'kley casts Prismatic Omen',\n",
       " 'kley plays Valakut, the Molten Pinnacle',\n",
       " 'Turn 4: Apocalypse13',\n",
       " 'Apocalypse13 plays Sliver Hive',\n",
       " 'Apocalypse13 casts Homing Sliver',\n",
       " 'Turn 4: kley',\n",
       " 'kley casts Peer Through Depths',\n",
       " 'kley puts Growth Spiral into their hand with with Peer Through Depths',\n",
       " 'kley plays Forest',\n",
       " 'Apocalypse13 discards Gemhide Sliver',\n",
       " 'Apocalypse13 cycles Gemhide Sliver',\n",
       " 'Apocalypse13 reveals The First Sliver',\n",
       " 'Turn 5: Apocalypse13',\n",
       " 'Apocalypse13 casts The First Sliver',\n",
       " 'Apocalypse13 puts triggered ability from The First Sliver onto the stack (Cascade)',\n",
       " 'Apocalypse13 casts Ancestral Vision targeting Apocalypse13',\n",
       " 'kley casts Growth Spiral',\n",
       " 'kley draws a card with Growth Spiral',\n",
       " 'Apocalypse13 draws three cards with Ancestral Vision',\n",
       " 'Apocalypse13 plays Unclaimed Territory',\n",
       " 'Apocalypse13 chooses Sliver for Unclaimed Territory',\n",
       " 'Apocalypse13 casts Galerider Sliver',\n",
       " 'Apocalypse13 puts triggered ability from Galerider Sliver onto the stack (Cascade)',\n",
       " 'Apocalypse13 casts Ancestral Vision targeting Apocalypse13',\n",
       " 'Apocalypse13 draws three cards with Ancestral Vision',\n",
       " 'Apocalypse13 casts Galerider Sliver',\n",
       " 'Apocalypse13 puts triggered ability from Galerider Sliver onto the stack (Cascade)',\n",
       " 'Apocalypse13 casts Ancestral Vision targeting Apocalypse13',\n",
       " 'Apocalypse13 draws three cards with Ancestral Vision',\n",
       " 'kley is being attacked by Homing Sliver',\n",
       " 'Apocalypse13 puts triggered ability from Homing Sliver onto the stack (Poisonous 1)',\n",
       " 'kley has 1 poison counter',\n",
       " 'Apocalypse13 discards Unclaimed Territory',\n",
       " 'Turn 5: kley',\n",
       " 'kley plays Snow-Covered Forest',\n",
       " 'kley puts triggered ability from Valakut, the Molten Pinnacle onto the stack targeting Apocalypse13 (Whenever a Mountain enters the battlefield under your control, if you control at least five other ',\n",
       " 'kley casts Scapeshift',\n",
       " 'kley sacrifices Snow-Covered Forest',\n",
       " 'kley sacrifices Snow-Covered Mountain',\n",
       " 'kley sacrifices Forest',\n",
       " 'kley sacrifices Steam Vents',\n",
       " 'kley sacrifices Sheltered Thicket',\n",
       " 'kley puts triggered ability from Valakut, the Molten Pinnacle onto the stack targeting Apocalypse13 (Whenever a Mountain enters the battlefield under your control, if you control at least five other ',\n",
       " 'kley puts triggered ability from Valakut, the Molten Pinnacle onto the stack targeting Apocalypse13 (Whenever a Mountain enters the battlefield under your control, if you control at least five other ',\n",
       " 'kley puts triggered ability from Valakut, the Molten Pinnacle onto the stack targeting Apocalypse13 (Whenever a Mountain enters the battlefield under your control, if you control at least five other ',\n",
       " 'kley puts triggered ability from Valakut, the Molten Pinnacle onto the stack targeting Apocalypse13 (Whenever a Mountain enters the battlefield under your control, if you control at least five other ',\n",
       " 'kley puts triggered ability from Valakut, the Molten Pinnacle onto the stack targeting Apocalypse13 (Whenever a Mountain enters the battlefield under your control, if you control at least five other ',\n",
       " 'kley puts triggered ability from Valakut, the Molten Pinnacle onto the stack targeting Apocalypse13 (Whenever a Mountain enters the battlefield under your control, if you control at least five other ',\n",
       " 'kley puts triggered ability from Valakut, the Molten Pinnacle onto the stack targeting Apocalypse13 (Whenever a Mountain enters the battlefield under your control, if you control at least five other ',\n",
       " 'kley puts triggered ability from Valakut, the Molten Pinnacle onto the stack targeting Apocalypse13 (Whenever a Mountain enters the battlefield under your control, if you control at least five other ',\n",
       " 'kley puts triggered ability from Valakut, the Molten Pinnacle onto the stack targeting Apocalypse13 (Whenever a Mountain enters the battlefield under your control, if you control at least five other ',\n",
       " 'kley puts triggered ability from Valakut, the Molten Pinnacle onto the stack targeting Apocalypse13 (Whenever a Mountain enters the battlefield under your control, if you control at least five other ',\n",
       " 'Apocalypse13 has conceded from the game',\n",
       " 'kley joined the game',\n",
       " 'Apocalypse13 joined the game',\n",
       " 'Apocalypse13 chooses to play first',\n",
       " 'Apocalypse13 mulligans to six cards',\n",
       " 'kley begins the game with seven cards in hand',\n",
       " 'Apocalypse13 puts a card on the bottom of their library and begins the game with six cards in hand',\n",
       " 'Turn 1: Apocalypse13',\n",
       " 'Apocalypse13 skips their draw step',\n",
       " 'Apocalypse13 plays Sliver Hive',\n",
       " 'Apocalypse13 casts Virulent Sliver',\n",
       " 'Turn 1: kleyMb',\n",
       " 'kley plays Sheltered Thicket',\n",
       " 'Turn 2: Apocalypse13e',\n",
       " 'Apocalypse13 plays Reflecting Pool',\n",
       " 'Apocalypse13 casts Manaweft Sliver',\n",
       " 'Apocalypse13 casts Virulent Sliver',\n",
       " 'Turn 2: kley',\n",
       " 'kley plays Flooded Grove',\n",
       " 'kley casts Farseek',\n",
       " 'Turn 3: Apocalypse13',\n",
       " 'Apocalypse13 casts The First Sliver',\n",
       " 'Apocalypse13 puts triggered ability from The First Sliver onto the stack (Cascade)',\n",
       " 'Apocalypse13 casts Collected Company',\n",
       " 'Apocalypse13 puts Unsettled Mariner into play',\n",
       " 'Apocalypse13 puts Cloudshredder Sliver into play',\n",
       " 'Apocalypse13 casts Manaweft Sliver',\n",
       " 'Apocalypse13 puts triggered ability from Manaweft Sliver onto the stack (Cascade)',\n",
       " 'Apocalypse13 casts Virulent Sliver',\n",
       " 'Apocalypse13 puts triggered ability from Virulent Sliver onto the stack (Cascade)',\n",
       " 'Apocalypse13 casts Ancestral Vision targeting Apocalypse13',\n",
       " 'Apocalypse13 draws three cards with Ancestral Vision',\n",
       " 'Apocalypse13 plays Unclaimed Territory',\n",
       " 'Apocalypse13 chooses Sliver for Unclaimed Territory',\n",
       " 'Apocalypse13 casts Homing Sliver',\n",
       " 'Apocalypse13 puts triggered ability from Homing Sliver onto the stack (Cascade)',\n",
       " 'Apocalypse13 casts Cloudshredder Sliver',\n",
       " 'Apocalypse13 puts triggered ability from Cloudshredder Sliver onto the stack (Cascade)',\n",
       " 'Apocalypse13 casts Galerider Sliver',\n",
       " 'Apocalypse13 puts triggered ability from Galerider Sliver onto the stack (Cascade)',\n",
       " 'Apocalypse13 casts Ancestral Vision targeting Apocalypse13',\n",
       " 'Apocalypse13 draws three cards with Ancestral Vision',\n",
       " 'kley is being attacked by Galerider Sliver, Cloudshredder Sliver, Homing Sliver, and The First Sliver',\n",
       " 'Apocalypse13 puts triggered ability from Galerider Sliver onto the stack (Poisonous 1)',\n",
       " 'Apocalypse13 puts triggered ability from Galerider Sliver onto the stack (Poisonous 1)',\n",
       " 'Apocalypse13 puts triggered ability from Galerider Sliver onto the stack (Poisonous 1)',\n",
       " 'Apocalypse13 puts triggered ability from Cloudshredder Sliver onto the stack (Poisonous 1)',\n",
       " 'Apocalypse13 puts triggered ability from Cloudshredder Sliver onto the stack (Poisonous 1)',\n",
       " 'Apocalypse13 puts triggered ability from Cloudshredder Sliver onto the stack (Poisonous 1)',\n",
       " 'Apocalypse13 puts triggered ability from Homing Sliver onto the stack (Poisonous 1)',\n",
       " 'Apocalypse13 puts triggered ability from Homing Sliver onto the stack (Poisonous 1)',\n",
       " 'Apocalypse13 puts triggered ability from Homing Sliver onto the stack (Poisonous 1)',\n",
       " 'Apocalypse13 puts triggered ability from The First Sliver onto the stack (Poisonous 1)',\n",
       " 'Apocalypse13 puts triggered ability from The First Sliver onto the stack (Poisonous 1)',\n",
       " 'Apocalypse13 puts triggered ability from The First Sliver onto the stack (Poisonous 1)',\n",
       " 'kley has 1 poison counter',\n",
       " 'kley has 2 poison counters',\n",
       " 'kley has 3 poison counters',\n",
       " 'kley has 4 poison counters',\n",
       " 'kley has 5 poison counters',\n",
       " 'kley has 6 poison counters',\n",
       " 'kley has 7 poison counters',\n",
       " 'kley has 8 poison counters',\n",
       " 'kley has 9 poison counters',\n",
       " 'kley has 10 poison counters',\n",
       " 'kley loses the game due to having 10 or more poison counters',\n",
       " 'kley joined the game',\n",
       " 'Apocalypse13 joined the game',\n",
       " 'kley chooses to play first',\n",
       " 'kley begins the game with seven cards in hand',\n",
       " 'Apocalypse13 begins the game with seven cards in hand',\n",
       " 'Turn 1: kley',\n",
       " 'kley skips their draw step',\n",
       " 'kley plays Sheltered Thicket',\n",
       " 'Turn 1: Apocalypse13',\n",
       " 'Apocalypse13 plays Sliver Hive',\n",
       " 'Apocalypse13 casts Galerider Sliver',\n",
       " 'Turn 2: kley',\n",
       " 'kley plays Polluted Delta',\n",
       " 'kley activates an ability of Polluted Delta ( Search your library for an Island or Swamp card, put it onto the battlefield, then shuffle your l',\n",
       " 'kley casts Farseek',\n",
       " 'Turn 2: Apocalypse13',\n",
       " 'Apocalypse13 plays Unclaimed Territory',\n",
       " 'Apocalypse13 chooses Sliver for Unclaimed Territory',\n",
       " 'kley is being attacked by Galerider Sliver',\n",
       " 'Apocalypse13 casts Unsettled Mariner',\n",
       " 'Turn 3: kley[',\n",
       " 'kley plays Cinder Glade',\n",
       " 'Turn 3: Apocalypse13R(',\n",
       " 'Apocalypse13 casts Gemhide Sliver',\n",
       " 'Apocalypse13 casts Cloudshredder Sliver',\n",
       " 'kley is being attacked by Cloudshredder Sliver and Gemhide Sliver',\n",
       " 'kley casts Growth Spiral',\n",
       " 'kley draws a card with Growth Spiral',\n",
       " 'kley casts Peer Through Depths',\n",
       " 'kley puts Lightning Bolt into their hand with with Peer Through Depths',\n",
       " 'Turn 4: kley',\n",
       " 'kley plays Cinder Glade',\n",
       " 'Turn 4: Apocalypse13',\n",
       " 'Apocalypse13 casts The First Sliver',\n",
       " 'Apocalypse13 puts triggered ability from The First Sliver onto the stack (Cascade)',\n",
       " 'Apocalypse13 casts Homing Sliver',\n",
       " 'kley casts Lightning Bolt targeting Unsettled Mariner',\n",
       " 'Apocalypse13 puts triggered ability from Unsettled Mariner onto the stack (Whenever you or a permanent you control becomes the target of a spell or ability an opponent contr',\n",
       " 'kley casts Aether Gust targeting The First Sliver',\n",
       " 'Apocalypse13 puts The First Sliver on bottom of their library',\n",
       " 'kley is being attacked by Homing Sliver',\n",
       " 'kley casts Peer Through Depths',\n",
       " 'kley puts Growth Spiral into their hand with with Peer Through Depths',\n",
       " 'Turn 5: kley]',\n",
       " 'kley casts Hour of Devastation',\n",
       " 'Turn 5: Apocalypse13',\n",
       " 'Apocalypse13 casts Unsettled Mariner',\n",
       " 'Turn 6: kley',\n",
       " 'Turn 6: Apocalypse13',\n",
       " 'Apocalypse13 plays Cavern of Souls',\n",
       " 'Apocalypse13 chooses Sliver for Cavern of Souls',\n",
       " 'kley is being attacked by Unsettled Mariner',\n",
       " 'kley casts Growth Spiral',\n",
       " 'kley draws a card with Growth Spiral',\n",
       " 'Turn 7: kley',\n",
       " 'kley plays Sheltered Thicket',\n",
       " 'Turn 7: Apocalypse13',\n",
       " 'Apocalypse13 plays Reflecting Pool',\n",
       " 'kley is being attacked by Unsettled Mariner',\n",
       " 'kley casts Lightning Bolt targeting Apocalypse13',\n",
       " 'Apocalypse13 puts triggered ability from Unsettled Mariner onto the stack (Whenever you or a permanent you control becomes the target of a spell or ability an opponent contr',\n",
       " 'Turn 8: kley',\n",
       " 'kley casts Anger of the Gods',\n",
       " 'kley casts Scapeshift',\n",
       " 'kley sacrifices Snow-Covered Forest',\n",
       " 'kley sacrifices Snow-Covered Island',\n",
       " 'kley sacrifices Snow-Covered Island',\n",
       " 'kley sacrifices Cinder Glade',\n",
       " 'kley sacrifices Cinder Glade',\n",
       " 'kley sacrifices Sheltered Thicket',\n",
       " 'kley sacrifices Sheltered Thicket',\n",
       " 'kley puts triggered ability from Valakut, the Molten Pinnacle onto the stack targeting Apocalypse13 (Whenever a Mountain enters the battlefield under your control, if you control at least five other ',\n",
       " 'kley puts triggered ability from Valakut, the Molten Pinnacle onto the stack targeting Apocalypse13 (Whenever a Mountain enters the battlefield under your control, if you control at least five other ',\n",
       " 'kley puts triggered ability from Valakut, the Molten Pinnacle onto the stack targeting Apocalypse13 (Whenever a Mountain enters the battlefield under your control, if you control at least five other ',\n",
       " 'kley puts triggered ability from Valakut, the Molten Pinnacle onto the stack targeting Apocalypse13 (Whenever a Mountain enters the battlefield under your control, if you control at least five other ',\n",
       " 'kley puts triggered ability from Valakut, the Molten Pinnacle onto the stack targeting Apocalypse13 (Whenever a Mountain enters the battlefield under your control, if you control at least five other ',\n",
       " 'kley puts triggered ability from Valakut, the Molten Pinnacle onto the stack targeting Apocalypse13 (Whenever a Mountain enters the battlefield under your control, if you control at least five other ',\n",
       " 'Apocalypse13 has conceded from the game',\n",
       " 'Apocalypse13 has left the game']"
      ]
     },
     "execution_count": 314,
     "metadata": {},
     "output_type": "execute_result"
    }
   ],
   "source": [
    "# Remove non-relevant characters\n",
    "filtered_match = re.split(r'[\\x00-\\x08\\x0b\\x0c\\x0e-\\x1f\\x7f-\\xff\\ufffd\\.\\{\\}\\|\\\\=#\\^><$]', file1)\n",
    "filtered_match = [re.sub('^.*@P', '', line) for line in filtered_match]\n",
    "filtered_match = [line for line in filtered_match if len(line) > 3]\n",
    "filtered_match"
   ]
  },
  {
   "cell_type": "code",
   "execution_count": 320,
   "metadata": {
    "ExecuteTime": {
     "end_time": "2020-04-17T03:49:41.881754Z",
     "start_time": "2020-04-17T03:49:41.869558Z"
    }
   },
   "outputs": [
    {
     "name": "stdout",
     "output_type": "stream",
     "text": [
      "Match ID: 96a0cf35-c322-4b0f-b1f8-b61894e41f42\n",
      "Players roles: {'Apocalypse13': 'opponent', 'kley': 'player'}\n"
     ]
    }
   ],
   "source": [
    "# Match_ID looks like it's the first line of the filtered log.\n",
    "match_ID = filtered_match[0]\n",
    "print(f'Match ID: {match_ID}')\n",
    "\n",
    "# Then it's followed by lines 2 and 3 with the players' rolls\n",
    "\n",
    "players = set(re.compile('(\\w+) rolled').findall(' '.join(filtered_match[2:4])))\n",
    "players.remove(player)\n",
    "opponent = list(players)[0]\n",
    "\n",
    "players = dict()\n",
    "players[opponent] = 'opponent'\n",
    "players[player] = 'player'\n",
    "\n",
    "print(f'Players roles: {players}')"
   ]
  },
  {
   "cell_type": "code",
   "execution_count": 282,
   "metadata": {
    "ExecuteTime": {
     "end_time": "2020-04-17T02:55:59.588316Z",
     "start_time": "2020-04-17T02:55:59.577225Z"
    }
   },
   "outputs": [
    {
     "data": {
      "text/plain": [
       "['Apocalypse13 chooses to play first',\n",
       " 'Apocalypse13 begins the game with seven cards in hand',\n",
       " 'kley mulligans to six cards',\n",
       " 'kley puts a card on the bottom of their library and begins the game with six cards in hand',\n",
       " 'Turn 1: Apocalypse131',\n",
       " 'Apocalypse13 skips their draw step',\n",
       " 'Apocalypse13 plays Cavern of Souls',\n",
       " 'Apocalypse13 chooses Sliver for Cavern of Souls',\n",
       " 'Turn 1: kley',\n",
       " 'kley plays Sheltered Thicket',\n",
       " 'Turn 2: Apocalypse13h',\n",
       " 'Apocalypse13 plays Reflecting Pool',\n",
       " 'Apocalypse13 casts Manaweft Sliver',\n",
       " 'Turn 2: kley',\n",
       " 'kley plays Steam Vents',\n",
       " 'kley casts Izzet Charm targeting Manaweft Sliver (Izzet Charm deals 2 damage to target creature',\n",
       " 'Turn 3: Apocalypse138',\n",
       " 'Apocalypse13 plays Sliver Hive',\n",
       " 'Apocalypse13 casts Manaweft Sliver',\n",
       " 'Apocalypse13 casts Virulent Sliver',\n",
       " 'Turn 3: kley',\n",
       " 'kley casts Prismatic Omen',\n",
       " 'kley plays Valakut, the Molten Pinnacle',\n",
       " 'Turn 4: Apocalypse13',\n",
       " 'Apocalypse13 plays Sliver Hive',\n",
       " 'Apocalypse13 casts Homing Sliver',\n",
       " 'Turn 4: kley',\n",
       " 'kley casts Peer Through Depths',\n",
       " 'kley puts Growth Spiral into their hand with with Peer Through Depths',\n",
       " 'kley plays Forest',\n",
       " 'Apocalypse13 discards Gemhide Sliver',\n",
       " 'Apocalypse13 cycles Gemhide Sliver',\n",
       " 'Apocalypse13 reveals The First Sliver',\n",
       " 'Turn 5: Apocalypse13',\n",
       " 'Apocalypse13 casts The First Sliver',\n",
       " 'Apocalypse13 puts triggered ability from The First Sliver onto the stack (Cascade)',\n",
       " 'Apocalypse13 casts Ancestral Vision targeting Apocalypse13',\n",
       " 'kley casts Growth Spiral',\n",
       " 'kley draws a card with Growth Spiral',\n",
       " 'Apocalypse13 draws three cards with Ancestral Vision',\n",
       " 'Apocalypse13 plays Unclaimed Territory',\n",
       " 'Apocalypse13 chooses Sliver for Unclaimed Territory',\n",
       " 'Apocalypse13 casts Galerider Sliver',\n",
       " 'Apocalypse13 puts triggered ability from Galerider Sliver onto the stack (Cascade)',\n",
       " 'Apocalypse13 casts Ancestral Vision targeting Apocalypse13',\n",
       " 'Apocalypse13 draws three cards with Ancestral Vision',\n",
       " 'Apocalypse13 casts Galerider Sliver',\n",
       " 'Apocalypse13 puts triggered ability from Galerider Sliver onto the stack (Cascade)',\n",
       " 'Apocalypse13 casts Ancestral Vision targeting Apocalypse13',\n",
       " 'Apocalypse13 draws three cards with Ancestral Vision',\n",
       " 'kley is being attacked by Homing Sliver',\n",
       " 'Apocalypse13 puts triggered ability from Homing Sliver onto the stack (Poisonous 1)',\n",
       " 'kley has 1 poison counter',\n",
       " 'Apocalypse13 discards Unclaimed Territory',\n",
       " 'Turn 5: kley',\n",
       " 'kley plays Snow-Covered Forest',\n",
       " 'kley puts triggered ability from Valakut, the Molten Pinnacle onto the stack targeting Apocalypse13 (Whenever a Mountain enters the battlefield under your control, if you control at least five other ',\n",
       " 'kley casts Scapeshift',\n",
       " 'kley sacrifices Snow-Covered Forest',\n",
       " 'kley sacrifices Snow-Covered Mountain',\n",
       " 'kley sacrifices Forest',\n",
       " 'kley sacrifices Steam Vents',\n",
       " 'kley sacrifices Sheltered Thicket',\n",
       " 'kley puts triggered ability from Valakut, the Molten Pinnacle onto the stack targeting Apocalypse13 (Whenever a Mountain enters the battlefield under your control, if you control at least five other ',\n",
       " 'kley puts triggered ability from Valakut, the Molten Pinnacle onto the stack targeting Apocalypse13 (Whenever a Mountain enters the battlefield under your control, if you control at least five other ',\n",
       " 'kley puts triggered ability from Valakut, the Molten Pinnacle onto the stack targeting Apocalypse13 (Whenever a Mountain enters the battlefield under your control, if you control at least five other ',\n",
       " 'kley puts triggered ability from Valakut, the Molten Pinnacle onto the stack targeting Apocalypse13 (Whenever a Mountain enters the battlefield under your control, if you control at least five other ',\n",
       " 'kley puts triggered ability from Valakut, the Molten Pinnacle onto the stack targeting Apocalypse13 (Whenever a Mountain enters the battlefield under your control, if you control at least five other ',\n",
       " 'kley puts triggered ability from Valakut, the Molten Pinnacle onto the stack targeting Apocalypse13 (Whenever a Mountain enters the battlefield under your control, if you control at least five other ',\n",
       " 'kley puts triggered ability from Valakut, the Molten Pinnacle onto the stack targeting Apocalypse13 (Whenever a Mountain enters the battlefield under your control, if you control at least five other ',\n",
       " 'kley puts triggered ability from Valakut, the Molten Pinnacle onto the stack targeting Apocalypse13 (Whenever a Mountain enters the battlefield under your control, if you control at least five other ',\n",
       " 'kley puts triggered ability from Valakut, the Molten Pinnacle onto the stack targeting Apocalypse13 (Whenever a Mountain enters the battlefield under your control, if you control at least five other ',\n",
       " 'kley puts triggered ability from Valakut, the Molten Pinnacle onto the stack targeting Apocalypse13 (Whenever a Mountain enters the battlefield under your control, if you control at least five other ',\n",
       " 'Apocalypse13 has conceded from the game',\n",
       " 'kley joined the game',\n",
       " 'Apocalypse13 joined the game']"
      ]
     },
     "execution_count": 282,
     "metadata": {},
     "output_type": "execute_result"
    }
   ],
   "source": [
    "# Breakdown the match into different games.\n",
    "game = list()\n",
    "game_i = 0\n",
    "for i,line in enumerate(filtered_match):\n",
    "    if \"chooses to play\" in line:\n",
    "        game.append(filtered_match[game_i:i])\n",
    "        game_i = i\n",
    "game.append(filtered_match[game_i:-1])\n",
    "game.pop(0)\n",
    "# Game 1 is game[0].\n",
    "game[0]"
   ]
  },
  {
   "cell_type": "code",
   "execution_count": 287,
   "metadata": {
    "ExecuteTime": {
     "end_time": "2020-04-17T03:19:43.494497Z",
     "start_time": "2020-04-17T03:19:43.488627Z"
    }
   },
   "outputs": [
    {
     "name": "stdout",
     "output_type": "stream",
     "text": [
      "opponent\n"
     ]
    }
   ],
   "source": [
    "current_game = game[1]\n",
    "# Who is on the play in this game?\n",
    "on_play = re.compile('(\\w+) chooses to play first').search(current_game[0]).group(1)\n",
    "print(f'{players[on_play]} is on the play')"
   ]
  },
  {
   "cell_type": "code",
   "execution_count": 322,
   "metadata": {
    "ExecuteTime": {
     "end_time": "2020-04-17T03:52:47.140302Z",
     "start_time": "2020-04-17T03:52:47.119017Z"
    }
   },
   "outputs": [
    {
     "data": {
      "text/plain": [
       "[('opponent', 'seven'), ('player', 'six')]"
      ]
     },
     "execution_count": 322,
     "metadata": {},
     "output_type": "execute_result"
    }
   ],
   "source": [
    "starting_hands = [(players[match_obj.group(1).split()[0]], match_obj.group(2)) for match_obj in \n",
    " [re.compile('(.+) begins the game with (\\w+) cards').search(line)\n",
    "  for line in current_game] if match_obj]\n",
    "\n",
    "starting_hands"
   ]
  },
  {
   "cell_type": "code",
   "execution_count": 323,
   "metadata": {
    "ExecuteTime": {
     "end_time": "2020-04-17T03:52:49.538495Z",
     "start_time": "2020-04-17T03:52:49.527855Z"
    }
   },
   "outputs": [
    {
     "name": "stdout",
     "output_type": "stream",
     "text": [
      "Each player number of starting cards: {'opponent': 7, 'player': 6}\n"
     ]
    }
   ],
   "source": [
    "numbers_dict = {'one': 1,\n",
    "               'two': 2,\n",
    "               'three': 3,\n",
    "               'four': 4,\n",
    "               'five': 5,\n",
    "               'six': 6,\n",
    "               'seven': 7}\n",
    "\n",
    "starting_hands = dict(starting_hands)\n",
    "for k,v in starting_hands.items():\n",
    "    starting_hands[k] = numbers_dict[v]\n",
    "    \n",
    "print(f'Each player number of starting cards: {starting_hands}')\n"
   ]
  },
  {
   "cell_type": "code",
   "execution_count": 307,
   "metadata": {
    "ExecuteTime": {
     "end_time": "2020-04-17T03:42:15.128398Z",
     "start_time": "2020-04-17T03:42:15.124477Z"
    }
   },
   "outputs": [],
   "source": [
    "class IncompleteMatchError(Exception):\n",
    "    pass\n",
    "\n",
    "class AmbiguousResultError(Exception):\n",
    "    pass"
   ]
  },
  {
   "cell_type": "code",
   "execution_count": 309,
   "metadata": {
    "ExecuteTime": {
     "end_time": "2020-04-17T03:42:21.012044Z",
     "start_time": "2020-04-17T03:42:20.997056Z"
    }
   },
   "outputs": [
    {
     "name": "stdout",
     "output_type": "stream",
     "text": [
      "{'player': 1, 'opponent': 0}\n"
     ]
    }
   ],
   "source": [
    "players_wins = {'player': 0,\n",
    "               'opponent': 0\n",
    "               }\n",
    "conceded_pattern = re.compile('(\\w+) has conceded')\n",
    "wins_pattern = re.compile('(\\w+) wins the game')\n",
    "loses_pattern = re.compile('(\\w+) loses the game')\n",
    "\n",
    "conceded = conceded_pattern.search(' '.join(current_game))\n",
    "wins = wins_pattern.search(' '.join(current_game))\n",
    "loses = loses_pattern.search(' '.join(current_game))\n",
    "if wins:\n",
    "    players_wins[players[wins.group(1)]] += 1\n",
    "elif conceded:\n",
    "    if players[conceded.group(1)] == 'player':\n",
    "        players_wins['opponent'] += 1\n",
    "    else:\n",
    "        players_wins['player'] += 1\n",
    "elif loses:\n",
    "    if players[loses.group(1)] == 'player':\n",
    "        players_wins['opponent'] += 1\n",
    "    else:\n",
    "        players_wins['player'] += 1\n",
    "else:\n",
    "    # Sometimes players just leave the match instead of properly conceding.\n",
    "    # In those cases, maybe query the user to check the game log?\n",
    "    raise AmbiguousResultError\n",
    "    \n",
    "print(players_wins)"
   ]
  },
  {
   "cell_type": "code",
   "execution_count": 308,
   "metadata": {
    "ExecuteTime": {
     "end_time": "2020-04-17T03:42:20.175599Z",
     "start_time": "2020-04-17T03:42:20.171800Z"
    }
   },
   "outputs": [],
   "source": [
    "current_game = game[0]"
   ]
  }
 ],
 "metadata": {
  "kernelspec": {
   "display_name": "Python 3",
   "language": "python",
   "name": "python3"
  },
  "language_info": {
   "codemirror_mode": {
    "name": "ipython",
    "version": 3
   },
   "file_extension": ".py",
   "mimetype": "text/x-python",
   "name": "python",
   "nbconvert_exporter": "python",
   "pygments_lexer": "ipython3",
   "version": "3.7.5"
  },
  "varInspector": {
   "cols": {
    "lenName": 16,
    "lenType": 16,
    "lenVar": 40
   },
   "kernels_config": {
    "python": {
     "delete_cmd_postfix": "",
     "delete_cmd_prefix": "del ",
     "library": "var_list.py",
     "varRefreshCmd": "print(var_dic_list())"
    },
    "r": {
     "delete_cmd_postfix": ") ",
     "delete_cmd_prefix": "rm(",
     "library": "var_list.r",
     "varRefreshCmd": "cat(var_dic_list()) "
    }
   },
   "types_to_exclude": [
    "module",
    "function",
    "builtin_function_or_method",
    "instance",
    "_Feature"
   ],
   "window_display": false
  }
 },
 "nbformat": 4,
 "nbformat_minor": 2
}
