{
 "cells": [
  {
   "cell_type": "code",
   "execution_count": 1,
   "metadata": {
    "ExecuteTime": {
     "end_time": "2020-04-20T21:06:44.297572Z",
     "start_time": "2020-04-20T21:06:37.101556Z"
    }
   },
   "outputs": [],
   "source": [
    "import pandas as pd\n",
    "import json\n",
    "import seaborn as sns\n",
    "import matplotlib.pyplot as plt\n",
    "\n",
    "pd.set_option('display.max_columns', None)"
   ]
  },
  {
   "cell_type": "code",
   "execution_count": 2,
   "metadata": {
    "ExecuteTime": {
     "end_time": "2020-04-20T21:06:44.592231Z",
     "start_time": "2020-04-20T21:06:44.300158Z"
    },
    "scrolled": true
   },
   "outputs": [
    {
     "data": {
      "text/html": [
       "<div>\n",
       "<style scoped>\n",
       "    .dataframe tbody tr th:only-of-type {\n",
       "        vertical-align: middle;\n",
       "    }\n",
       "\n",
       "    .dataframe tbody tr th {\n",
       "        vertical-align: top;\n",
       "    }\n",
       "\n",
       "    .dataframe thead th {\n",
       "        text-align: right;\n",
       "    }\n",
       "</style>\n",
       "<table border=\"1\" class=\"dataframe\">\n",
       "  <thead>\n",
       "    <tr style=\"text-align: right;\">\n",
       "      <th></th>\n",
       "      <th>game_n</th>\n",
       "      <th>on_play</th>\n",
       "      <th>winner</th>\n",
       "      <th>last_turn</th>\n",
       "      <th>starting_hands.player</th>\n",
       "      <th>starting_hands.opponent</th>\n",
       "    </tr>\n",
       "    <tr>\n",
       "      <th>id_match</th>\n",
       "      <th></th>\n",
       "      <th></th>\n",
       "      <th></th>\n",
       "      <th></th>\n",
       "      <th></th>\n",
       "      <th></th>\n",
       "    </tr>\n",
       "  </thead>\n",
       "  <tbody>\n",
       "    <tr>\n",
       "      <th>606142c4-78ef-4577-aabf-652456c09ce3</th>\n",
       "      <td>1</td>\n",
       "      <td>player</td>\n",
       "      <td>opponent</td>\n",
       "      <td>3</td>\n",
       "      <td>7</td>\n",
       "      <td>7</td>\n",
       "    </tr>\n",
       "    <tr>\n",
       "      <th>606142c4-78ef-4577-aabf-652456c09ce3</th>\n",
       "      <td>2</td>\n",
       "      <td>player</td>\n",
       "      <td>opponent</td>\n",
       "      <td>6</td>\n",
       "      <td>7</td>\n",
       "      <td>5</td>\n",
       "    </tr>\n",
       "    <tr>\n",
       "      <th>124147a1-f3f2-4f54-b1f7-be69dfcbfd72</th>\n",
       "      <td>1</td>\n",
       "      <td>opponent</td>\n",
       "      <td>player</td>\n",
       "      <td>5</td>\n",
       "      <td>7</td>\n",
       "      <td>7</td>\n",
       "    </tr>\n",
       "  </tbody>\n",
       "</table>\n",
       "</div>"
      ],
      "text/plain": [
       "                                      game_n   on_play    winner  last_turn  \\\n",
       "id_match                                                                      \n",
       "606142c4-78ef-4577-aabf-652456c09ce3       1    player  opponent          3   \n",
       "606142c4-78ef-4577-aabf-652456c09ce3       2    player  opponent          6   \n",
       "124147a1-f3f2-4f54-b1f7-be69dfcbfd72       1  opponent    player          5   \n",
       "\n",
       "                                      starting_hands.player  \\\n",
       "id_match                                                      \n",
       "606142c4-78ef-4577-aabf-652456c09ce3                      7   \n",
       "606142c4-78ef-4577-aabf-652456c09ce3                      7   \n",
       "124147a1-f3f2-4f54-b1f7-be69dfcbfd72                      7   \n",
       "\n",
       "                                      starting_hands.opponent  \n",
       "id_match                                                       \n",
       "606142c4-78ef-4577-aabf-652456c09ce3                        7  \n",
       "606142c4-78ef-4577-aabf-652456c09ce3                        5  \n",
       "124147a1-f3f2-4f54-b1f7-be69dfcbfd72                        7  "
      ]
     },
     "metadata": {},
     "output_type": "display_data"
    },
    {
     "name": "stdout",
     "output_type": "stream",
     "text": [
      "(56, 6)\n"
     ]
    }
   ],
   "source": [
    "with open('compiled_results_kley.json', 'r') as f:\n",
    "    data = json.load(f)\n",
    "\n",
    "df_games = pd.json_normalize(data, record_path='games',\n",
    "                      meta=['id_match', 'date'],\n",
    "                      errors='ignore')\n",
    "df_games.index = df_games['id_match']\n",
    "df_games = df_games[df_games['date'] > '2020-04-07']\n",
    "df_games.drop(columns=['id_match', 'date'], inplace=True)\n",
    "display(df_games.head(3))\n",
    "print(df_games.shape)"
   ]
  },
  {
   "cell_type": "code",
   "execution_count": 3,
   "metadata": {
    "ExecuteTime": {
     "end_time": "2020-04-20T21:06:45.163285Z",
     "start_time": "2020-04-20T21:06:44.594971Z"
    }
   },
   "outputs": [
    {
     "data": {
      "image/png": "[encoded data removed]",
      "text/plain": [
       "<Figure size 432x288 with 1 Axes>"
      ]
     },
     "metadata": {
      "needs_background": "light"
     },
     "output_type": "display_data"
    }
   ],
   "source": [
    "sns.distplot(df_games[df_games['winner'] == 'player']['last_turn'],\n",
    "            label='wins')\n",
    "sns.distplot(df_games[df_games['winner'] == 'opponent']['last_turn'],\n",
    "            label='losses')\n",
    "plt.legend()\n",
    "plt.show()"
   ]
  }
 ],
 "metadata": {
  "kernelspec": {
   "display_name": "Python 3",
   "language": "python",
   "name": "python3"
  },
  "language_info": {
   "codemirror_mode": {
    "name": "ipython",
    "version": 3
   },
   "file_extension": ".py",
   "mimetype": "text/x-python",
   "name": "python",
   "nbconvert_exporter": "python",
   "pygments_lexer": "ipython3",
   "version": "3.7.5"
  },
  "varInspector": {
   "cols": {
    "lenName": 16,
    "lenType": 16,
    "lenVar": 40
   },
   "kernels_config": {
    "python": {
     "delete_cmd_postfix": "",
     "delete_cmd_prefix": "del ",
     "library": "var_list.py",
     "varRefreshCmd": "print(var_dic_list())"
    },
    "r": {
     "delete_cmd_postfix": ") ",
     "delete_cmd_prefix": "rm(",
     "library": "var_list.r",
     "varRefreshCmd": "cat(var_dic_list()) "
    }
   },
   "types_to_exclude": [
    "module",
    "function",
    "builtin_function_or_method",
    "instance",
    "_Feature"
   ],
   "window_display": false
  }
 },
 "nbformat": 4,
 "nbformat_minor": 2
}
